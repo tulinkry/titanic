{
 "cells": [
  {
   "cell_type": "code",
   "execution_count": 1,
   "metadata": {
    "collapsed": false
   },
   "outputs": [
    {
     "data": {
      "text/html": [
       "<style>/*\n",
       "Pandas table style from Brandon Rhodes' amazing Pandas workshop at PyCon 2015:\n",
       "https://www.youtube.com/watch?v=5JnMutdy6Fw\n",
       "\n",
       "Copyright © 2015 Brandon Rhodes and available under the MIT license:\n",
       "\n",
       "Permission is hereby granted, free of charge, to any person obtaining a\n",
       "copy of this software and associated documentation files (the\n",
       "\"Software\"), to deal in the Software without restriction, including\n",
       "without limitation the rights to use, copy, modify, merge, publish,\n",
       "distribute, sublicense, and/or sell copies of the Software, and to\n",
       "permit persons to whom the Software is furnished to do so, subject to\n",
       "the following conditions:\n",
       "\n",
       "The above copyright notice and this permission notice shall be included\n",
       "in all copies or substantial portions of the Software.\n",
       "\n",
       "THE SOFTWARE IS PROVIDED \"AS IS\", WITHOUT WARRANTY OF ANY KIND, EXPRESS\n",
       "OR IMPLIED, INCLUDING BUT NOT LIMITED TO THE WARRANTIES OF\n",
       "MERCHANTABILITY, FITNESS FOR A PARTICULAR PURPOSE AND\n",
       "NONINFRINGEMENT. IN NO EVENT SHALL THE AUTHORS OR COPYRIGHT HOLDERS BE\n",
       "LIABLE FOR ANY CLAIM, DAMAGES OR OTHER LIABILITY, WHETHER IN AN ACTION\n",
       "OF CONTRACT, TORT OR OTHERWISE, ARISING FROM, OUT OF OR IN CONNECTION\n",
       "WITH THE SOFTWARE OR THE USE OR OTHER DEALINGS IN THE SOFTWARE.\n",
       "\n",
       " */\n",
       "\n",
       "body {\n",
       "    margin: 0;\n",
       "    font-family: Helvetica;\n",
       "}\n",
       "table.dataframe {\n",
       "    border-collapse: collapse;\n",
       "    border: none;\n",
       "}\n",
       "table.dataframe tr {\n",
       "    border: none;\n",
       "}\n",
       "table.dataframe td, table.dataframe th {\n",
       "    margin: 0;\n",
       "    border: 1px solid white;\n",
       "    padding-left: 0.25em;\n",
       "    padding-right: 0.25em;\n",
       "}\n",
       "table.dataframe th:not(:empty) {\n",
       "    background-color: #fec;\n",
       "    text-align: left;\n",
       "    font-weight: normal;\n",
       "}\n",
       "table.dataframe tr:nth-child(2) th:empty {\n",
       "    border-left: none;\n",
       "    border-right: 1px dashed #888;\n",
       "}\n",
       "table.dataframe td {\n",
       "    border: 2px solid #ccf;\n",
       "    background-color: #f4f4ff;\n",
       "}\n",
       "</style>"
      ],
      "text/plain": [
       "<IPython.core.display.HTML object>"
      ]
     },
     "execution_count": 1,
     "metadata": {},
     "output_type": "execute_result"
    }
   ],
   "source": [
    "from IPython.core.display import HTML\n",
    "with open('style-table.css') as css:\n",
    "    html = HTML('<style>{}</style>'.format(css.read()))\n",
    "html\n"
   ]
  },
  {
   "cell_type": "code",
   "execution_count": null,
   "metadata": {
    "collapsed": false
   },
   "outputs": [],
   "source": []
  },
  {
   "cell_type": "code",
   "execution_count": 2,
   "metadata": {
    "collapsed": true
   },
   "outputs": [],
   "source": [
    "import pandas"
   ]
  },
  {
   "cell_type": "code",
   "execution_count": 3,
   "metadata": {
    "collapsed": false
   },
   "outputs": [],
   "source": [
    "titanic = pandas.read_csv('titanic.csv', index_col=None)"
   ]
  },
  {
   "cell_type": "code",
   "execution_count": 4,
   "metadata": {
    "collapsed": false
   },
   "outputs": [
    {
     "name": "stdout",
     "output_type": "stream",
     "text": [
      "O kolika pasažérech Titanicu víme?\n",
      "Víme o 1313 pasažérech\n"
     ]
    }
   ],
   "source": [
    "print ( 'O kolika pasažérech Titanicu víme?' )\n",
    "total = len(titanic.index)\n",
    "print ( 'Víme o {} pasažérech'.format(total))"
   ]
  },
  {
   "cell_type": "code",
   "execution_count": null,
   "metadata": {
    "collapsed": false
   },
   "outputs": [],
   "source": []
  },
  {
   "cell_type": "code",
   "execution_count": 5,
   "metadata": {
    "collapsed": false
   },
   "outputs": [
    {
     "name": "stdout",
     "output_type": "stream",
     "text": [
      "Kolik procent jich přežilo?\n",
      "Přežilo jich 34.272658035034276%\n"
     ]
    }
   ],
   "source": [
    "print ( 'Kolik procent jich přežilo?' )\n",
    "survived = titanic['Survived'].apply(lambda x: 1 if x != 0 else 0).sum()\n",
    "print ( 'Přežilo jich {}%'.format(survived * 100/total) )"
   ]
  },
  {
   "cell_type": "code",
   "execution_count": 6,
   "metadata": {
    "collapsed": false
   },
   "outputs": [
    {
     "name": "stdout",
     "output_type": "stream",
     "text": [
      "Kolik procent žen přežilo? Kolik procent mužů?\n",
      "Přežilo 23.457730388423457% žen\n",
      "Přežilo 10.814927646610816% mužů\n"
     ]
    }
   ],
   "source": [
    "print ( 'Kolik procent žen přežilo? Kolik procent mužů?' )\n",
    "men = titanic[titanic['Sex'] == 'male']\n",
    "women = titanic[titanic['Sex'] == 'female']\n",
    "men_survived = men['Survived'].apply(lambda x: 1 if x != 0 else 0).sum()\n",
    "women_survived = women['Survived'].apply(lambda x: 1 if x != 0 else 0).sum()\n",
    "print ( 'Přežilo {}% žen'.format(women_survived * 100 / total) )\n",
    "print ( 'Přežilo {}% mužů'.format(men_survived * 100 / total) )"
   ]
  },
  {
   "cell_type": "code",
   "execution_count": 7,
   "metadata": {
    "collapsed": false
   },
   "outputs": [
    {
     "name": "stdout",
     "output_type": "stream",
     "text": [
      "Pro každou třídu vypište:\n",
      "1. kolik pasažérů dané třídy nastoupilo na loď,\n",
      "2. kolik jich přežilo,\n",
      "3. a kolik to dělá procent přeživších.\n"
     ]
    }
   ],
   "source": [
    "print ( 'Pro každou třídu vypište:' )\n",
    "print ( '1. kolik pasažérů dané třídy nastoupilo na loď,' )\n",
    "print ( '2. kolik jich přežilo,' )\n",
    "print ( '3. a kolik to dělá procent přeživších.' )"
   ]
  },
  {
   "cell_type": "code",
   "execution_count": 8,
   "metadata": {
    "collapsed": false
   },
   "outputs": [
    {
     "name": "stdout",
     "output_type": "stream",
     "text": [
      "Ze třídy 1st nastoupilo na loď 322 lidí\n",
      "Ze třídy 1st přežilo 193 lidí\n",
      "Ze třídy 1st přežilo 14.6991622239147% lidí\n",
      "Ze třídy 2nd nastoupilo na loď 279 lidí\n",
      "Ze třídy 2nd přežilo 119 lidí\n",
      "Ze třídy 2nd přežilo 9.063214013709063% lidí\n",
      "Ze třídy * nastoupilo na loď 1 lidí\n",
      "Ze třídy * přežilo 0 lidí\n",
      "Ze třídy * přežilo 0.0% lidí\n",
      "Ze třídy 3rd nastoupilo na loď 711 lidí\n",
      "Ze třídy 3rd přežilo 138 lidí\n",
      "Ze třídy 3rd přežilo 10.51028179741051% lidí\n"
     ]
    }
   ],
   "source": [
    "classes = titanic['PClass'].unique()\n",
    "for c in classes:\n",
    "    people = titanic[titanic['PClass'] == c]\n",
    "    people_survived = people['Survived'].apply(lambda x: 1 if x != 0 else 0).sum()\n",
    "    print ( 'Ze třídy {} nastoupilo na loď {} lidí'.format(c, len(people.index) ) )\n",
    "    print ( 'Ze třídy {} přežilo {} lidí'.format(c, people_survived) )\n",
    "    print ( 'Ze třídy {} přežilo {}% lidí'.format(c, people_survived * 100 / total) )"
   ]
  },
  {
   "cell_type": "code",
   "execution_count": 9,
   "metadata": {
    "collapsed": false
   },
   "outputs": [
    {
     "name": "stdout",
     "output_type": "stream",
     "text": [
      "Vykreslete graf procenta přeživších podle dekády věku (t.j. procento pro 0-9 let, 10-19 let, atd.).\n"
     ]
    }
   ],
   "source": [
    "print ( 'Vykreslete graf procenta přeživších podle dekády věku (t.j. procento pro 0-9 let, 10-19 let, atd.).' )"
   ]
  },
  {
   "cell_type": "code",
   "execution_count": 10,
   "metadata": {
    "collapsed": false
   },
   "outputs": [],
   "source": [
    "import matplotlib\n",
    "import matplotlib.style\n",
    "matplotlib.style.use('ggplot')\n",
    "\n",
    "# Zapnout zobrazování grafů (procento uvozuje „magickou” zkratku IPythonu):\n",
    "%matplotlib inline"
   ]
  },
  {
   "cell_type": "code",
   "execution_count": 11,
   "metadata": {
    "collapsed": false
   },
   "outputs": [],
   "source": [
    "titanic['Age_decade'] = titanic['Age'].dropna() // 10\n"
   ]
  },
  {
   "cell_type": "code",
   "execution_count": 12,
   "metadata": {
    "collapsed": false
   },
   "outputs": [],
   "source": [
    "age_survival = pandas.DataFrame(columns = ['Decade', 'Percentage'])\n",
    "for d in titanic['Age_decade'].dropna().unique():\n",
    "    surv = titanic[titanic['Age_decade'] == d]['Survived'].sum()\n",
    "    df = pandas.DataFrame([{'Decade': d, \n",
    "                            'Percentage': surv * 100 / total}])\n",
    "    age_survival = age_survival.append(df, ignore_index=True)\n",
    "age_survival = age_survival.set_index(['Decade']).sort_index()"
   ]
  },
  {
   "cell_type": "code",
   "execution_count": 13,
   "metadata": {
    "collapsed": false
   },
   "outputs": [
    {
     "data": {
      "text/plain": [
       "<matplotlib.axes._subplots.AxesSubplot at 0x7f55ed590278>"
      ]
     },
     "execution_count": 13,
     "metadata": {},
     "output_type": "execute_result"
    },
    {
     "data": {
      "image/png": "[encoded data removed]",
      "text/plain": [
       "<matplotlib.figure.Figure at 0x7f55ed57ee80>"
      ]
     },
     "metadata": {},
     "output_type": "display_data"
    }
   ],
   "source": [
    "age_survival.plot()"
   ]
  },
  {
   "cell_type": "code",
   "execution_count": 14,
   "metadata": {
    "collapsed": false
   },
   "outputs": [
    {
     "name": "stdout",
     "output_type": "stream",
     "text": [
      "Závisí na sobě třída a věk pasažéra? Jak? Vykreslete graf(y), které tuto závislost znázorňují.\n"
     ]
    }
   ],
   "source": [
    "print ( 'Závisí na sobě třída a věk pasažéra? Jak? Vykreslete graf(y), které tuto závislost znázorňují.' )"
   ]
  },
  {
   "cell_type": "code",
   "execution_count": 15,
   "metadata": {
    "collapsed": false
   },
   "outputs": [
    {
     "name": "stdout",
     "output_type": "stream",
     "text": [
      "Toto nemám\n"
     ]
    }
   ],
   "source": [
    "print ( 'Toto nemám' )"
   ]
  },
  {
   "cell_type": "code",
   "execution_count": null,
   "metadata": {
    "collapsed": false
   },
   "outputs": [],
   "source": []
  },
  {
   "cell_type": "code",
   "execution_count": null,
   "metadata": {
    "collapsed": true
   },
   "outputs": [],
   "source": []
  }
 ],
 "metadata": {
  "kernelspec": {
   "display_name": "Python 3",
   "language": "python",
   "name": "python3"
  },
  "language_info": {
   "codemirror_mode": {
    "name": "ipython",
    "version": 3
   },
   "file_extension": ".py",
   "mimetype": "text/x-python",
   "name": "python",
   "nbconvert_exporter": "python",
   "pygments_lexer": "ipython3",
   "version": "3.5.2"
  }
 },
 "nbformat": 4,
 "nbformat_minor": 1
}
